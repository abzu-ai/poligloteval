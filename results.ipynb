{
 "cells": [
  {
   "cell_type": "code",
   "execution_count": 1,
   "metadata": {},
   "outputs": [],
   "source": [
    "import pandas as pd\n"
   ]
  },
  {
   "cell_type": "code",
   "execution_count": 3,
   "metadata": {},
   "outputs": [],
   "source": [
    "aguila_xquad_ca = pd.read_csv(\"results/aguila-7b-xquad-ca.csv\")\n",
    "aguila_xquad_en = pd.read_csv(\"results/aguila-7b-xquad-en.csv\")\n",
    "falcon_xquad_ca = pd.read_csv(\"results/falcon-7b-xquad-ca.csv\")\n",
    "falcon_xquad_en = pd.read_csv(\"results/falcon-7b-xquad-en.csv\")\n",
    "scafalcon_xquad_ca = pd.read_csv(\"results/scafalcon-7b-xquad-ca.csv\")\n",
    "aguila_catalanqa_ca = pd.read_csv(\"results/aguila-7b-catalanqa-ca.csv\")\n",
    "falcon_catalanqa_ca = pd.read_csv(\"results/falcon-7b-catalanqa-ca.csv\")\n",
    "scafalcon_catalanqa_ca = pd.read_csv(\"results/scafalcon-7b-catalanqa-ca.csv\")\n"
   ]
  },
  {
   "cell_type": "code",
   "execution_count": 6,
   "metadata": {},
   "outputs": [],
   "source": [
    "values = [\n",
    "    [\"aguila\",\"xquad\",\"ca\", aguila_xquad_ca[\"f1\"].mean()],\n",
    "    [\"aguila\",\"xquad\",\"en\", aguila_xquad_en[\"f1\"].mean()],\n",
    "    [\"falcon\",\"xquad\",\"ca\", falcon_xquad_ca[\"f1\"].mean()],\n",
    "    [\"falcon\",\"xquad\",\"en\", falcon_xquad_en[\"f1\"].mean()],\n",
    "    [\"scafalcon\",\"xquad\",\"ca\", scafalcon_xquad_ca[\"f1\"].mean()],\n",
    "    [\"aguila\",\"catalanqa\",\"ca\", aguila_catalanqa_ca[\"f1\"].mean()],\n",
    "    [\"falcon\",\"catalanqa\",\"ca\", falcon_catalanqa_ca[\"f1\"].mean()],\n",
    "    [\"scafalcon\",\"catalanqa\",\"ca\", scafalcon_catalanqa_ca[\"f1\"].mean()],\n",
    "]\n",
    "\n",
    "results = pd.DataFrame(data=values, columns=[\"model\", \"task\", \"lang\", \"f1 (mean)\"])\n"
   ]
  },
  {
   "cell_type": "code",
   "execution_count": 7,
   "metadata": {},
   "outputs": [
    {
     "data": {
      "text/html": [
       "<div>\n",
       "<style scoped>\n",
       "    .dataframe tbody tr th:only-of-type {\n",
       "        vertical-align: middle;\n",
       "    }\n",
       "\n",
       "    .dataframe tbody tr th {\n",
       "        vertical-align: top;\n",
       "    }\n",
       "\n",
       "    .dataframe thead th {\n",
       "        text-align: right;\n",
       "    }\n",
       "</style>\n",
       "<table border=\"1\" class=\"dataframe\">\n",
       "  <thead>\n",
       "    <tr style=\"text-align: right;\">\n",
       "      <th></th>\n",
       "      <th>model</th>\n",
       "      <th>task</th>\n",
       "      <th>lang</th>\n",
       "      <th>f1 (mean)</th>\n",
       "    </tr>\n",
       "  </thead>\n",
       "  <tbody>\n",
       "    <tr>\n",
       "      <th>0</th>\n",
       "      <td>aguila</td>\n",
       "      <td>xquad</td>\n",
       "      <td>ca</td>\n",
       "      <td>0.507363</td>\n",
       "    </tr>\n",
       "    <tr>\n",
       "      <th>1</th>\n",
       "      <td>aguila</td>\n",
       "      <td>xquad</td>\n",
       "      <td>en</td>\n",
       "      <td>0.523871</td>\n",
       "    </tr>\n",
       "    <tr>\n",
       "      <th>2</th>\n",
       "      <td>falcon</td>\n",
       "      <td>xquad</td>\n",
       "      <td>ca</td>\n",
       "      <td>0.477440</td>\n",
       "    </tr>\n",
       "    <tr>\n",
       "      <th>3</th>\n",
       "      <td>falcon</td>\n",
       "      <td>xquad</td>\n",
       "      <td>en</td>\n",
       "      <td>0.750167</td>\n",
       "    </tr>\n",
       "    <tr>\n",
       "      <th>4</th>\n",
       "      <td>scafalcon</td>\n",
       "      <td>xquad</td>\n",
       "      <td>ca</td>\n",
       "      <td>0.573134</td>\n",
       "    </tr>\n",
       "    <tr>\n",
       "      <th>5</th>\n",
       "      <td>aguila</td>\n",
       "      <td>catalanqa</td>\n",
       "      <td>ca</td>\n",
       "      <td>0.590878</td>\n",
       "    </tr>\n",
       "    <tr>\n",
       "      <th>6</th>\n",
       "      <td>falcon</td>\n",
       "      <td>catalanqa</td>\n",
       "      <td>ca</td>\n",
       "      <td>0.470127</td>\n",
       "    </tr>\n",
       "    <tr>\n",
       "      <th>7</th>\n",
       "      <td>scafalcon</td>\n",
       "      <td>catalanqa</td>\n",
       "      <td>ca</td>\n",
       "      <td>0.560049</td>\n",
       "    </tr>\n",
       "  </tbody>\n",
       "</table>\n",
       "</div>"
      ],
      "text/plain": [
       "       model       task lang  f1 (mean)\n",
       "0     aguila      xquad   ca   0.507363\n",
       "1     aguila      xquad   en   0.523871\n",
       "2     falcon      xquad   ca   0.477440\n",
       "3     falcon      xquad   en   0.750167\n",
       "4  scafalcon      xquad   ca   0.573134\n",
       "5     aguila  catalanqa   ca   0.590878\n",
       "6     falcon  catalanqa   ca   0.470127\n",
       "7  scafalcon  catalanqa   ca   0.560049"
      ]
     },
     "execution_count": 7,
     "metadata": {},
     "output_type": "execute_result"
    }
   ],
   "source": [
    "results\n"
   ]
  },
  {
   "cell_type": "code",
   "execution_count": 8,
   "metadata": {},
   "outputs": [],
   "source": [
    "results.to_csv(\"results/results.csv\", index=False)"
   ]
  },
  {
   "cell_type": "markdown",
   "metadata": {},
   "source": [
    "## Look at some samples"
   ]
  },
  {
   "cell_type": "code",
   "execution_count": 5,
   "metadata": {},
   "outputs": [],
   "source": [
    "i = 831\n"
   ]
  },
  {
   "cell_type": "markdown",
   "metadata": {},
   "source": [
    "## Falcon"
   ]
  },
  {
   "cell_type": "code",
   "execution_count": 6,
   "metadata": {},
   "outputs": [
    {
     "name": "stdout",
     "output_type": "stream",
     "text": [
      "Lady Gaga, sis vegades guanyadora del Grammy i nominada a l’Oscar, va interpretar l’himne nacional, mentre que la guanyadora de l’Oscar, Marlee Matlin, en va oferir la traducció en llengua de signes americana (ASL).\n",
      "----\n",
      "Pregunta: Què va cantar Lady Gaga?\n",
      "Resposta: l’himne nacional\n",
      "----\n",
      "Pregunta: Qui va cantar l’himne nacional?\n",
      "Resposta: Lady Gaga\n",
      "----\n",
      "Pregunta: Quants Grammy ha guanyat Lady Gaga?\n",
      "Resposta:  3\n",
      "Expected: sis\n"
     ]
    }
   ],
   "source": [
    "print(falcon_xquad_ca.iloc[i]['prompt'], falcon_xquad_ca.iloc[i]['predictions'] )\n",
    "print(\"Expected:\", falcon_xquad_ca.iloc[i]['answer'] )\n"
   ]
  },
  {
   "cell_type": "markdown",
   "metadata": {},
   "source": [
    "### Aguila"
   ]
  },
  {
   "cell_type": "code",
   "execution_count": 7,
   "metadata": {},
   "outputs": [
    {
     "name": "stdout",
     "output_type": "stream",
     "text": [
      "Lady Gaga, sis vegades guanyadora del Grammy i nominada a l’Oscar, va interpretar l’himne nacional, mentre que la guanyadora de l’Oscar, Marlee Matlin, en va oferir la traducció en llengua de signes americana (ASL).\n",
      "----\n",
      "Pregunta: Què va cantar Lady Gaga?\n",
      "Resposta: l’himne nacional\n",
      "----\n",
      "Pregunta: Qui va cantar l’himne nacional?\n",
      "Resposta: Lady Gaga\n",
      "----\n",
      "Pregunta: Quants Grammy ha guanyat Lady Gaga?\n",
      "Resposta:  sis vegades\n",
      "Expected: sis\n"
     ]
    }
   ],
   "source": [
    "print(aguila_xquad_ca.iloc[i]['prompt'], aguila_xquad_ca.iloc[i]['predictions'] )\n",
    "print(\"Expected:\", aguila_xquad_ca.iloc[i]['answer'] )\n"
   ]
  },
  {
   "cell_type": "markdown",
   "metadata": {},
   "source": [
    "## Falcon EN\n"
   ]
  },
  {
   "cell_type": "code",
   "execution_count": 8,
   "metadata": {},
   "outputs": [
    {
     "name": "stdout",
     "output_type": "stream",
     "text": [
      "Six-time Grammy winner and Academy Award nominee Lady Gaga performed the national anthem, while Academy Award winner Marlee Matlin provided American Sign Language (ASL) translation.\n",
      "----\n",
      "Question: What did Lady Gaga sing?\n",
      "Response: the national anthem\n",
      "----\n",
      "Question: Who sang the national anthem?\n",
      "Response: Lady Gaga\n",
      "----\n",
      "Question: How many Grammys has Lady Gaga won?\n",
      "Response:  6\n",
      "Expected: Six\n"
     ]
    }
   ],
   "source": [
    "print(falcon_xquad_en.iloc[i]['prompt'], falcon_xquad_en.iloc[i]['predictions'] )\n",
    "print(\"Expected:\", falcon_xquad_en.iloc[i]['answer'] )\n"
   ]
  },
  {
   "cell_type": "markdown",
   "metadata": {},
   "source": [
    "\n",
    "## Aguila EN\n"
   ]
  },
  {
   "cell_type": "code",
   "execution_count": 9,
   "metadata": {},
   "outputs": [
    {
     "name": "stdout",
     "output_type": "stream",
     "text": [
      "Six-time Grammy winner and Academy Award nominee Lady Gaga performed the national anthem, while Academy Award winner Marlee Matlin provided American Sign Language (ASL) translation.\n",
      "----\n",
      "Question: What did Lady Gaga sing?\n",
      "Response: the national anthem\n",
      "----\n",
      "Question: Who sang the national anthem?\n",
      "Response: Lady Gaga\n",
      "----\n",
      "Question: How many Grammys has Lady Gaga won?\n",
      "Response:  4\n",
      "Expected: Six\n"
     ]
    }
   ],
   "source": [
    "print(aguila_xquad_en.iloc[i]['prompt'], aguila_xquad_en.iloc[i]['predictions'] )\n",
    "print(\"Expected:\", aguila_xquad_en.iloc[i]['answer'] )\n"
   ]
  },
  {
   "cell_type": "markdown",
   "metadata": {},
   "source": [
    "## SCA-Falcon\n"
   ]
  },
  {
   "cell_type": "code",
   "execution_count": 10,
   "metadata": {},
   "outputs": [
    {
     "name": "stdout",
     "output_type": "stream",
     "text": [
      "Lady Gaga, sis vegades guanyadora del Grammy i nominada a l’Oscar, va interpretar l’himne nacional, mentre que la guanyadora de l’Oscar, Marlee Matlin, en va oferir la traducció en llengua de signes americana (ASL).\n",
      "----\n",
      "Pregunta: Què va cantar Lady Gaga?\n",
      "Resposta: l’himne nacional\n",
      "----\n",
      "Pregunta: Qui va cantar l’himne nacional?\n",
      "Resposta: Lady Gaga\n",
      "----\n",
      "Pregunta: Quants Grammy ha guanyat Lady Gaga?\n",
      "Resposta:  sis\n",
      "Expected: sis\n"
     ]
    }
   ],
   "source": [
    "print(scafalcon_xquad_ca.iloc[i]['prompt'], scafalcon_xquad_ca.iloc[i]['predictions'] )\n",
    "print(\"Expected:\", scafalcon_xquad_ca.iloc[i]['answer'] )\n"
   ]
  }
 ],
 "metadata": {
  "kernelspec": {
   "display_name": "venv",
   "language": "python",
   "name": "python3"
  },
  "language_info": {
   "codemirror_mode": {
    "name": "ipython",
    "version": 3
   },
   "file_extension": ".py",
   "mimetype": "text/x-python",
   "name": "python",
   "nbconvert_exporter": "python",
   "pygments_lexer": "ipython3",
   "version": "3.10.9"
  }
 },
 "nbformat": 4,
 "nbformat_minor": 2
}
